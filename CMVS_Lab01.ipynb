{
 "cells": [
  {
   "cell_type": "markdown",
   "metadata": {},
   "source": [
    "Introduction:\n",
    "A function is a block of organized, reusable code that is used to perform a single and related action. You have learned various aspects of functions in previous classes.  In this assignment, you will demonstrate your learning outcomes by responding following questions:"
   ]
  },
  {
   "cell_type": "markdown",
   "metadata": {},
   "source": [
    "Question 1: \t\t\t\t\t\t\t\t\t\tMarks: 2.5\n",
    "Write a program that asks the user a distance in kilometers, then converts that distance to miles and print it. The conversion formula is as follows:\n",
    "Miles = Kilometers x 0.6214"
   ]
  },
  {
   "cell_type": "code",
   "execution_count": 12,
   "metadata": {},
   "outputs": [
    {
     "name": "stdout",
     "output_type": "stream",
     "text": [
      "Enter a number of Kilometers:100\n",
      "100 Km. corresponds to 62.14 Miles!\n"
     ]
    }
   ],
   "source": [
    "#Question 1\n",
    "def fKmToMiles(nKm):\n",
    "    nMiles = nKm * 0.6214\n",
    "    return nMiles\n",
    "\n",
    "def main():\n",
    "    nKm = eval(input('Please, enter a number of Kilometers: '))\n",
    "    nMiles = fKmToMiles(nKm)\n",
    "    print('>>> ' + str(round(nKm,2)) + ' Km. corresponds to ' + str(round(nMiles,2)) + ' Miles!')\n",
    "    \n",
    "main()    "
   ]
  },
  {
   "cell_type": "markdown",
   "metadata": {},
   "source": [
    "Question 2: \t\t\t\t\t\t\t\t\t\tMarks: 2.5\t\n",
    "Write a simple function which receives a number as an argument and returns “Yes, it’s a prime number” if number is a prime number and “Sorry, It’s not a prime number” if it’s not a prime number."
   ]
  },
  {
   "cell_type": "code",
   "execution_count": 17,
   "metadata": {},
   "outputs": [
    {
     "name": "stdout",
     "output_type": "stream",
     "text": [
      "Please, enter a number: 100\n",
      ">>> The number 100  is NOT a Prime Number!\n"
     ]
    }
   ],
   "source": [
    "#Question 2\n",
    "def fPrime(nNumber):\n",
    "    bPrime = True\n",
    "    for i in range(2, nNumber):\n",
    "        if nNumber % i == 0:\n",
    "            bPrime = False\n",
    "    return bPrime  \n",
    "\n",
    "def main():\n",
    "    nNumber = eval(input('Please, enter a number: '))\n",
    "    if fPrime(nNumber):\n",
    "        print('>>> The number', nNumber, 'is a Prime Number!')\n",
    "    else:   \n",
    "        print('>>> The number', nNumber, 'is NOT a Prime Number!')\n",
    "    \n",
    "main()     "
   ]
  },
  {
   "cell_type": "markdown",
   "metadata": {},
   "source": [
    "Question 3:\t\t\t\t\t\t\t\t\t\tMarks: 2.5\t\n",
    "Write a functions which accepts Price, Federal and Provincial tax rate as arguments and prints total sales price after taxes."
   ]
  },
  {
   "cell_type": "code",
   "execution_count": 26,
   "metadata": {},
   "outputs": [
    {
     "name": "stdout",
     "output_type": "stream",
     "text": [
      "Please, enter the price: 100\n",
      "Please, enter the federal tax in percentage: 10\n",
      "Please, enter the provincial tax rate: 10\n",
      ">>> The total sales price after taxes is 121.0.\n"
     ]
    }
   ],
   "source": [
    "#Question 3\n",
    "def fTotalSales(nPrice, nFederal, nProvincial):\n",
    "    nPrice = nPrice + nPrice * (nFederal/100)\n",
    "    nPrice = nPrice + nPrice * (nProvincial/100)\n",
    "    print('>>> The total sales price after taxes is ' + str(round(nPrice, 2)) + '.')\n",
    "\n",
    "def main():\n",
    "    nPrice = float(input('Please, enter the price: '))\n",
    "    nFederal = float(input('Please, enter the federal tax in percentage: '))\n",
    "    nProvincial = float(input('Please, enter the provincial tax rate: '))\n",
    "    \n",
    "    fTotalSales(nPrice, nFederal, nProvincial)\n",
    "    \n",
    "main() "
   ]
  },
  {
   "cell_type": "markdown",
   "metadata": {},
   "source": [
    "Question 4: \t\t\t\t\t\t\t\t\t\tMarks: 2.5\t\n",
    "A program which receives two arguments and can perform basic arithmetic operations of addition, subtraction, multiplication and division using functions."
   ]
  },
  {
   "cell_type": "code",
   "execution_count": 30,
   "metadata": {},
   "outputs": [
    {
     "name": "stdout",
     "output_type": "stream",
     "text": [
      "Please, enter the first number (integer): 4\n",
      "Please, enter the second number (integer): 6\n",
      ">>> The sum of number 4 and 6 is: 10\n",
      ">>> The subtraction of number 4 and 6 is: -2\n",
      ">>> The multiplication of number 4 and 6 is: 24\n",
      ">>> The division of number 4 and 6 is: 0.6666666666666666\n"
     ]
    }
   ],
   "source": [
    "#Question 4\n",
    "def fAdd(nOne, nTwo):\n",
    "    print('>>> The sum of number', nOne, 'and', nTwo, 'is:', nOne+nTwo)\n",
    "\n",
    "def fSub(nOne, nTwo):\n",
    "    print('>>> The subtraction of number', nOne, 'and', nTwo, 'is:', nOne-nTwo)\n",
    "    \n",
    "def fMult(nOne, nTwo):\n",
    "    print('>>> The multiplication of number', nOne, 'and', nTwo, 'is:', nOne*nTwo)\n",
    "    \n",
    "def fDiv(nOne, nTwo):\n",
    "    print('>>> The division of number', nOne, 'and', nTwo, 'is:', nOne/nTwo)\n",
    "    \n",
    "def main():\n",
    "    nOne = int(input('Please, enter the first number (integer): '))\n",
    "    nTwo = int(input('Please, enter the second number (integer): '))\n",
    "    \n",
    "    fAdd(nOne, nTwo)\n",
    "    fSub(nOne, nTwo)\n",
    "    fMult(nOne, nTwo)\n",
    "    fDiv(nOne, nTwo)\n",
    "    \n",
    "main() "
   ]
  }
 ],
 "metadata": {
  "kernelspec": {
   "display_name": "Python 3",
   "language": "python",
   "name": "python3"
  },
  "language_info": {
   "codemirror_mode": {
    "name": "ipython",
    "version": 3
   },
   "file_extension": ".py",
   "mimetype": "text/x-python",
   "name": "python",
   "nbconvert_exporter": "python",
   "pygments_lexer": "ipython3",
   "version": "3.7.3"
  }
 },
 "nbformat": 4,
 "nbformat_minor": 2
}
